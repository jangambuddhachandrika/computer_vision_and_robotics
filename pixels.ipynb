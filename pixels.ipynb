{
 "cells": [
  {
   "cell_type": "code",
   "execution_count": 1,
   "metadata": {},
   "outputs": [
    {
     "data": {
      "image/png": "[encoded data removed]",
      "text/plain": [
       "<Figure size 640x480 with 1 Axes>"
      ]
     },
     "metadata": {},
     "output_type": "display_data"
    }
   ],
   "source": [
    "import numpy as np\n",
    "import matplotlib.pyplot as plt\n",
    "\n",
    "# Image dimensions\n",
    "height, width = 256, 256\n",
    "\n",
    "# Create empty image\n",
    "image = np.zeros((height, width, 3))\n",
    "\n",
    "# Fill pixel values according to the rule\n",
    "for i in range(height):\n",
    "    r_val = i * 0.0039\n",
    "    g_val = 1 - i * 0.0039\n",
    "    b_val = 1.0\n",
    "\n",
    "    image[i, :, 0] = r_val  # Red channel\n",
    "    image[i, :, 1] = g_val  # Green channel\n",
    "    image[i, :, 2] = b_val  # Blue channel\n",
    "\n",
    "# Display the image\n",
    "plt.imshow(image)\n",
    "plt.title(\"Generated 256x256 RGB Image\")\n",
    "plt.axis('off')\n",
    "plt.show()\n"
   ]
  },
  {
   "cell_type": "code",
   "execution_count": null,
   "metadata": {},
   "outputs": [],
   "source": [
    "from warping import *\n",
    "import matplotlib.pyplot as plt\n",
    "from PIL import Image\n",
    "\n",
    "# load square, grayscale image\n",
    "im = Image.open('HanyFaridDistort.jpg').convert('L')  # Convert to grayscale\n",
    "[ydim, xdim] = im.size\n",
    "mid = round(max(xdim, ydim)/2)\n",
    "\n",
    "# define sampling lattices\n",
    "n = 100  # lattice sampling\n",
    "dst = griddify(shape_to_rect(im.size), n, n)  # destination grid\n",
    "src = dst.copy()  # source grid (initialize as copy of dst)\n",
    "\n",
    "# define new sampling lattice (jrc)\n",
    "k = 0.0000005  # estimated lens distortion coefficient\n",
    "dst = dst - mid  # put image center at (0,0)\n",
    "\n",
    "# YOUR CODE HERE - apply radial distortion to create src grid\n",
    "r = np.sqrt(dst[:,:,0]**2 + dst[:,:,1]**2)  # distance from center\n",
    "src = dst * (1 + k * r**2)[:,:,np.newaxis]  # apply radial distortion\n",
    "\n",
    "dst = dst + mid  # re-center\n",
    "dst = dst.astype(int)  # convert to integer\n",
    "src = src + mid  # re-center\n",
    "src = src.astype(int)  # convert to integer\n",
    "\n",
    "# Warp the image using the calculated grids\n",
    "warped_im = warp(im, src, dst)\n",
    "\n",
    "# Display results\n",
    "plt.figure(figsize=(12,6))\n",
    "plt.subplot(121)\n",
    "plt.title(\"Original\")\n",
    "plt.imshow(im, cmap='gray')\n",
    "plt.subplot(122)\n",
    "plt.title(\"Corrected\")\n",
    "plt.imshow(warped_im, cmap='gray')\n",
    "plt.show()"
   ]
  },
  {
   "cell_type": "code",
   "execution_count": null,
   "metadata": {},
   "outputs": [],
   "source": [
    "import numpy as np\n",
    "\n",
    "def dct2_quantized(block, quant_matrix):\n",
    "    \"\"\"\n",
    "    Perform 2D DCT on an 8x8 block and apply quantization.\n",
    "\n",
    "    Parameters:\n",
    "    block (np.ndarray): 8x8 numpy array of pixel values.\n",
    "    quant_matrix (np.ndarray): 8x8 numpy array of quantization values.\n",
    "\n",
    "    Returns:\n",
    "    np.ndarray: Quantized 8x8 DCT coefficients.\n",
    "    \"\"\"\n",
    "    assert block.shape == (8, 8), \"Input block must be 8x8\"\n",
    "    assert quant_matrix.shape == (8, 8), \"Quantization matrix must be 8x8\"\n",
    "\n",
    "    result = np.zeros((8, 8))\n",
    "    alpha = lambda x: np.sqrt(1/8) if x == 0 else np.sqrt(2/8)\n",
    "\n",
    "    for u in range(8):\n",
    "        for v in range(8):\n",
    "            sum_val = 0.0\n",
    "            for x in range(8):\n",
    "                for y in range(8):\n",
    "                    sum_val += block[x, y] * \\\n",
    "                        np.cos((2 * x + 1) * u * np.pi / 16) * \\\n",
    "                        np.cos((2 * y + 1) * v * np.pi / 16)\n",
    "            result[u, v] = alpha(u) * alpha(v) * sum_val\n",
    "\n",
    "    # Quantize\n",
    "    quantized_result = np.round(result / quant_matrix).astype(int)\n",
    "    return quantized_result\n"
   ]
  }
 ],
 "metadata": {
  "kernelspec": {
   "display_name": "Python 3",
   "language": "python",
   "name": "python3"
  },
  "language_info": {
   "codemirror_mode": {
    "name": "ipython",
    "version": 3
   },
   "file_extension": ".py",
   "mimetype": "text/x-python",
   "name": "python",
   "nbconvert_exporter": "python",
   "pygments_lexer": "ipython3",
   "version": "3.10.12"
  }
 },
 "nbformat": 4,
 "nbformat_minor": 2
}
