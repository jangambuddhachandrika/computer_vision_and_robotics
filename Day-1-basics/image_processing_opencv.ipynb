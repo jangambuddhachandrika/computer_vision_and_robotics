{
 "cells": [
  {
   "cell_type": "markdown",
   "metadata": {},
   "source": [
    "\n",
    "#  Computer Vision Fundamentals & Setup\n",
    "## Part 1: Theory + Environment Setup"
   ]
  },
  {
   "cell_type": "markdown",
   "metadata": {},
   "source": [
    "\n",
    " ### 1. Camera Models & CV Basics\n",
    "#### - **Pinhole Camera Model**: \n",
    "####   - Intrinsic (focal length, principal point) / Extrinsic (rotation, translation) parameters.\n",
    "####   - Distortion (radial/tangential).\n",
    "#### - **Image Representation**: \n",
    "####   - Pixels, channels (RGB, HSV, grayscale)."
   ]
  },
  {
   "cell_type": "markdown",
   "metadata": {},
   "source": [
    " ### 2. Install OpenCV, ROS, Git\n",
    "### Run these commands in your terminal (not here):\n",
    " ```bash\n",
    "# Install OpenCV\n",
    "pip install opencv-python opencv-contrib-python\n",
    "\n",
    "#  Install ROS (Ubuntu example for ROS Noetic)\n",
    " sudo apt install ros-noetic-desktop-full\n",
    " echo \"source /opt/ros/noetic/setup.bash\" >> ~/.bashrc"
   ]
  },
  {
   "cell_type": "code",
   "execution_count": 1,
   "metadata": {},
   "outputs": [],
   "source": [
    "\n",
    "import cv2\n",
    "import matplotlib.pyplot as plt\n",
    "print(\"OpenCV version:\", cv2.__version__)\n",
    "\n",
    "\n",
    "# ## Part 2: Python Image Operations\n",
    "\n",
    "# Load an image\n",
    "img = cv2.imread(\"/home/jangcha/computer_vision_and_robotics/bird.jpg\")  # Replace with your image path\n",
    "assert img is not None, \"Image not found!\"\n",
    "\n",
    "# Display\n",
    "cv2.imshow(\"Image\", img)\n",
    "cv2.waitKey(0)\n",
    "cv2.destroyAllWindows()\n",
    "# Crop and resize\n",
    "cropped = img[100:300, 200:400]  # y1:y2, x1:x2\n",
    "resized = cv2.resize(img, (400, 200))  # (width, height)\n",
    "cv2.imshow(\"resized\", resized)\n",
    "cv2.waitKey(0)\n",
    "cv2.destroyAllWindows()\n",
    "# Convert to grayscale\n",
    "gray = cv2.cvtColor(resized, cv2.COLOR_BGR2GRAY)\n",
    "plt.imshow(gray)\n",
    "plt.show()\n",
    "\n",
    "\n",
    "# Draw a rectangle\n",
    "cv2.rectangle(img, (50, 50), (200, 200), (0, 255, 0), 2)  # (x1,y1), (x2,y2), color, thickness\n",
    "\n",
    "# Gaussian blur\n",
    "blurred = cv2.GaussianBlur(gray, (5, 5), 0)  # Kernel size (odd), sigma\n",
    "\n",
    "# Edge detection (Canny)\n",
    "edges = cv2.Canny(blurred, 50, 150)  # minVal, maxVal\n",
    "\n",
    "# Display results\n",
    "cv2.imshow(\"Edges\", edges)\n",
    "cv2.waitKey(0)\n",
    "cv2.destroyAllWindows()\n"
   ]
  },
  {
   "cell_type": "code",
   "execution_count": null,
   "metadata": {},
   "outputs": [],
   "source": []
  }
 ],
 "metadata": {
  "kernelspec": {
   "display_name": "Python 3",
   "language": "python",
   "name": "python3"
  },
  "language_info": {
   "codemirror_mode": {
    "name": "ipython",
    "version": 3
   },
   "file_extension": ".py",
   "mimetype": "text/x-python",
   "name": "python",
   "nbconvert_exporter": "python",
   "pygments_lexer": "ipython3",
   "version": "3.10.12"
  }
 },
 "nbformat": 4,
 "nbformat_minor": 2
}
